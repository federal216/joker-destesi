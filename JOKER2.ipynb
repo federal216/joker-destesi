{
 "cells": [
  {
   "cell_type": "code",
   "execution_count": 70,
   "metadata": {},
   "outputs": [
    {
     "name": "stdout",
     "output_type": "stream",
     "text": [
      "9 kupa\n",
      "4 sinek\n",
      "2 sinek\n",
      "8 karo\n",
      "2 maca\n",
      "5 maca\n",
      "kral kupa\n",
      "7 sinek\n",
      "7 maca\n",
      "8 kupa\n",
      "kiz maca\n",
      "kral sinek\n",
      "3 sinek\n",
      "as karo\n",
      "9 karo\n",
      "10 maca\n",
      "8 sinek\n",
      "3 karo\n",
      "5 karo\n",
      "as kupa\n",
      "7 kupa\n",
      "2 kupa\n",
      "3 maca\n",
      "6 kupa\n",
      "kral maca\n",
      "kiz sinek\n",
      "3 kupa\n",
      "5 kupa\n",
      "as maca\n",
      "6 maca\n",
      "joker maca\n",
      "kral karo\n",
      "kiz karo\n",
      "10 kupa\n",
      "9 maca\n",
      "kiz kupa\n",
      "8 maca\n",
      "10 sinek\n",
      "joker karo\n",
      "7 karo\n",
      "4 kupa\n",
      "joker sinek\n",
      "9 sinek\n",
      "joker kupa\n",
      "as sinek\n",
      "6 sinek\n",
      "4 karo\n",
      "4 maca\n",
      "10 karo\n",
      "2 karo\n",
      "5 sinek\n",
      "6 karo\n"
     ]
    }
   ],
   "source": [
    "import random\n",
    "kartyuzu = []\n",
    "renkler = [\"kupa\", \"maca\", \"karo\", \"sinek\"]\n",
    "kraliyet = [\"joker\", \"kiz\", \"kral\", \"as\"]\n",
    "deste = []\n",
    "for i in range(2, 11):\n",
    "    kartyuzu.append(str(i))\n",
    "for j in range(4):\n",
    "        kartyuzu.append(kraliyet[j])\n",
    "for k in range(4):\n",
    "    for l in range(13):\n",
    "        kart = (kartyuzu[l] + \" \" + renkler[k])\n",
    "        deste.append(kart)\n",
    "random.shuffle(deste)\n",
    "for m in range(52):\n",
    "    print(deste[m])\n",
    "    \n"
   ]
  },
  {
   "cell_type": "code",
   "execution_count": 69,
   "metadata": {},
   "outputs": [
    {
     "ename": "NameError",
     "evalue": "name 'ali' is not defined",
     "output_type": "error",
     "traceback": [
      "\u001b[1;31m---------------------------------------------------------------------------\u001b[0m",
      "\u001b[1;31mNameError\u001b[0m                                 Traceback (most recent call last)",
      "\u001b[1;32m<ipython-input-69-918a746ecf2e>\u001b[0m in \u001b[0;36m<module>\u001b[1;34m\u001b[0m\n\u001b[1;32m----> 1\u001b[1;33m \u001b[0mali\u001b[0m\u001b[1;33m.\u001b[0m\u001b[0mshow_hand\u001b[0m\u001b[1;33m(\u001b[0m\u001b[1;33m)\u001b[0m\u001b[1;33m\u001b[0m\u001b[1;33m\u001b[0m\u001b[0m\n\u001b[0m\u001b[0;32m      2\u001b[0m \u001b[1;33m\u001b[0m\u001b[0m\n",
      "\u001b[1;31mNameError\u001b[0m: name 'ali' is not defined"
     ]
    }
   ],
   "source": [
    "ali.show_hand()\n",
    "    "
   ]
  }
 ],
 "metadata": {
  "kernelspec": {
   "display_name": "Python 3",
   "language": "python",
   "name": "python3"
  },
  "language_info": {
   "codemirror_mode": {
    "name": "ipython",
    "version": 3
   },
   "file_extension": ".py",
   "mimetype": "text/x-python",
   "name": "python",
   "nbconvert_exporter": "python",
   "pygments_lexer": "ipython3",
   "version": "3.8.5"
  }
 },
 "nbformat": 4,
 "nbformat_minor": 4
}
